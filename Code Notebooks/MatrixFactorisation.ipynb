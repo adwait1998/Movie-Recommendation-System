{
  "cells": [
    {
      "cell_type": "code",
      "execution_count": 1,
      "metadata": {
        "colab": {
          "base_uri": "https://localhost:8080/"
        },
        "id": "WXGlD1RWeWOm",
        "outputId": "f5df01e9-233c-42ca-bd45-94bcb23e99e7"
      },
      "outputs": [
        {
          "output_type": "stream",
          "name": "stdout",
          "text": [
            "Looking in indexes: https://pypi.org/simple, https://us-python.pkg.dev/colab-wheels/public/simple/\n",
            "Requirement already satisfied: google in /usr/local/lib/python3.7/dist-packages (2.0.3)\n",
            "Requirement already satisfied: beautifulsoup4 in /usr/local/lib/python3.7/dist-packages (from google) (4.6.3)\n"
          ]
        }
      ],
      "source": [
        "pip install google"
      ]
    },
    {
      "cell_type": "code",
      "execution_count": 2,
      "metadata": {
        "colab": {
          "base_uri": "https://localhost:8080/"
        },
        "id": "0at3yzYMQCY8",
        "outputId": "9193bfde-2549-4989-b916-2376a6f11568"
      },
      "outputs": [
        {
          "output_type": "stream",
          "name": "stdout",
          "text": [
            "Mounted at /content/drive\n"
          ]
        }
      ],
      "source": [
        "from google.colab import drive\n",
        "drive.mount('/content/drive')"
      ]
    },
    {
      "cell_type": "code",
      "execution_count": 3,
      "metadata": {
        "id": "JOnK8F1dLR6F",
        "colab": {
          "base_uri": "https://localhost:8080/"
        },
        "outputId": "301ac706-e6d7-4344-dc53-a2af54b8f46a"
      },
      "outputs": [
        {
          "output_type": "stream",
          "name": "stdout",
          "text": [
            "Looking in indexes: https://pypi.org/simple, https://us-python.pkg.dev/colab-wheels/public/simple/\n",
            "Requirement already satisfied: numpy in /usr/local/lib/python3.7/dist-packages (1.21.6)\n",
            "Looking in indexes: https://pypi.org/simple, https://us-python.pkg.dev/colab-wheels/public/simple/\n",
            "Collecting scikit-surprise\n",
            "  Downloading scikit-surprise-1.1.1.tar.gz (11.8 MB)\n",
            "\u001b[K     |████████████████████████████████| 11.8 MB 10.0 MB/s \n",
            "\u001b[?25hRequirement already satisfied: joblib>=0.11 in /usr/local/lib/python3.7/dist-packages (from scikit-surprise) (1.2.0)\n",
            "Requirement already satisfied: numpy>=1.11.2 in /usr/local/lib/python3.7/dist-packages (from scikit-surprise) (1.21.6)\n",
            "Requirement already satisfied: scipy>=1.0.0 in /usr/local/lib/python3.7/dist-packages (from scikit-surprise) (1.7.3)\n",
            "Requirement already satisfied: six>=1.10.0 in /usr/local/lib/python3.7/dist-packages (from scikit-surprise) (1.15.0)\n",
            "Building wheels for collected packages: scikit-surprise\n",
            "  Building wheel for scikit-surprise (setup.py) ... \u001b[?25l\u001b[?25hdone\n",
            "  Created wheel for scikit-surprise: filename=scikit_surprise-1.1.1-cp37-cp37m-linux_x86_64.whl size=1633961 sha256=34dcb5155d901ec09a69c09850446ffbf47e405bf06c1de4add3ba2b26f0ec5a\n",
            "  Stored in directory: /root/.cache/pip/wheels/76/44/74/b498c42be47b2406bd27994e16c5188e337c657025ab400c1c\n",
            "Successfully built scikit-surprise\n",
            "Installing collected packages: scikit-surprise\n",
            "Successfully installed scikit-surprise-1.1.1\n"
          ]
        }
      ],
      "source": [
        "!pip install numpy\n",
        "!pip install scikit-surprise\n",
        "import os\n",
        "import pandas as pd\n",
        "from surprise import Reader\n",
        "from surprise import Dataset\n",
        "from surprise.model_selection import KFold\n",
        "from surprise.model_selection import cross_validate\n",
        "from surprise.model_selection import train_test_split\n",
        "from surprise.model_selection import GridSearchCV\n",
        "from surprise.accuracy import rmse\n",
        "from collections import defaultdict\n",
        "from surprise import KNNBasic\n",
        "from surprise import SVD\n",
        "from surprise import SVDpp\n",
        "from surprise import NMF\n",
        "from surprise import accuracy\n",
        "from surprise import AlgoBase"
      ]
    },
    {
      "cell_type": "code",
      "execution_count": 4,
      "metadata": {
        "id": "n5M280SQLR6F"
      },
      "outputs": [],
      "source": [
        "\n",
        "# Function to load the ratings and movies datasets\n",
        "\n",
        "dir = '/content/drive/MyDrive/CSE573-SWM-Movie-Recommender/DATA'\n",
        "def loadDataset():\n",
        "  ratings_df = pd.read_csv(dir+'/ratings.csv')\n",
        "  movies_df = pd.read_csv(dir+'/movies.csv')\n",
        "  \n",
        "  ratings_df.drop('timestamp',axis =1, inplace = True)\n",
        "\n",
        "  return ratings_df,movies_df\n"
      ]
    },
    {
      "cell_type": "code",
      "execution_count": 5,
      "metadata": {
        "id": "7xXNM77ULR6G"
      },
      "outputs": [],
      "source": [
        "# Calculates the evaluations metrics Precision and Recall for each loop of cross validation\n",
        "\n",
        "def metricsAtK(predictions, k=10, threshold=3.5):\n",
        "\n",
        "    # dictionary to store user and the respective predicted ratings of the movies\n",
        "    user_predicted = defaultdict(list)\n",
        "    for u_id, _, rating_actual, rating_predicted, _ in predictions:\n",
        "        user_predicted[u_id].append((rating_predicted, rating_actual))\n",
        "\n",
        "    precisions = dict()\n",
        "    recalls = dict()\n",
        "\n",
        "    for u_id, u_ratings in user_predicted.items():\n",
        "        u_ratings.sort(key=lambda x: x[0], reverse=True)\n",
        "\n",
        "        # Calculating actual values of the ratings\n",
        "        actual = sum((ratings_true >= threshold) for (_, ratings_true) in u_ratings)\n",
        "        # Calculating predicted values of the ratings\n",
        "        predicted = sum((estimate_value >= threshold) for (estimate_value, _) in u_ratings[:k])\n",
        "\n",
        "        # Calculating true positives and negatives\n",
        "        positive_true = sum(((ratings_true >= threshold) and (estimate_value >= threshold))\n",
        "                              for (estimate_value, ratings_true) in u_ratings[:k])\n",
        "        negative_true = sum(((ratings_true < threshold) and (estimate_value < threshold))\n",
        "                              for (estimate_value, ratings_true) in u_ratings[:k])\n",
        "        \n",
        "        # Calculating actual and predicted positives and negatives\n",
        "        positive_predicted = predicted if predicted != 0 else 1\n",
        "        negative_predicted = predicted if predicted != 1 else 0\n",
        "        positive_actual = actual if actual != 0 else 1\n",
        "        negative_actual = actual if actual != 1 else 0\n",
        "\n",
        "        # Calculating precision, recall and accuracy\n",
        "        precisions[u_id] = positive_true / positive_predicted\n",
        "        recalls[u_id] = positive_true / positive_actual\n",
        "\n",
        "    return precisions, recalls"
      ]
    },
    {
      "cell_type": "code",
      "execution_count": 6,
      "metadata": {
        "id": "A2AxjWMMLR6H"
      },
      "outputs": [],
      "source": [
        "def fit(model, ratings_data, num_of_splits=5):\n",
        "  # Generator object for k - cross validation\n",
        "  kf = KFold(n_splits=num_of_splits)\n",
        "  split_df = list()\n",
        "\n",
        "  i = 1\n",
        "  for train, test in kf.split(ratings_data):\n",
        "      predictions = model.fit(train).test(test)\n",
        "      rmse = accuracy.rmse(predictions, verbose=False)\n",
        "      mae = accuracy.mae(predictions, verbose=False)\n",
        "      precisions, recalls = metricsAtK(predictions, k=5, threshold=4)\n",
        "      precision = sum(prec for prec in precisions.values()) / len(precisions)\n",
        "      recall = sum(rec for rec in recalls.values()) / len(recalls)\n",
        "      f1_score = (2*precision*recall)/(precision+recall)\n",
        "      split_df.append([i,precision,recall,rmse,f1_score,mae])\n",
        "      i +=1\n",
        "\n",
        "  split_df = pd.DataFrame(split_df, columns=['Split', 'Precision', 'Recall', 'RMSE', 'F1 Score', 'MAE'])\n",
        "  return split_df"
      ]
    },
    {
      "cell_type": "code",
      "source": [
        "def getSortedPredictions(predictions):\n",
        "    \n",
        "    sorted_predictions = defaultdict(list)    \n",
        "    for u_id, id, _, rating_predicted, _ in predictions:\n",
        "        sorted_predictions[u_id].append((id, rating_predicted))\n",
        "\n",
        "    for u_id, u_ratings in sorted_predictions.items():\n",
        "        u_ratings.sort(key=lambda x: x[1], reverse=True)\n",
        "\n",
        "    return sorted_predictions"
      ],
      "metadata": {
        "id": "4vH9bSBSYWVA"
      },
      "execution_count": 7,
      "outputs": []
    },
    {
      "cell_type": "code",
      "source": [
        "def inference(model):\n",
        "  trainset = ratings_data.build_full_trainset()\n",
        "\n",
        "  # build_anti_testset will generate the entires for the movies which the user has not rated. i.e \n",
        "  # The completement of the user's ratings. It assumes the rating to be equal to the global mean of the ratings.\n",
        "  testset = trainset.build_anti_testset() \n",
        "\n",
        "  # Training the model with trainset and getting predictions using the generated testset\n",
        "  model.fit(trainset)\n",
        "  predictions = model.test(testset)\n",
        "\n",
        "  return predictions"
      ],
      "metadata": {
        "id": "IRiii6tGYaUt"
      },
      "execution_count": 8,
      "outputs": []
    },
    {
      "cell_type": "code",
      "source": [
        "# Post processing the predictions to produce the list of recommendations\n",
        "def getRecommendations(predictions, n=10):\n",
        "\n",
        "  # Getting sorted predictions\n",
        "  total = getSortedPredictions(predictions)\n",
        "\n",
        "  # Extracting only n number of movie predictions\n",
        "  for user_id, user_ratings in total.items():\n",
        "      total[user_id] = user_ratings[:n]\n",
        "\n",
        "  total_df = pd.DataFrame.from_dict(total)\n",
        "  total_df = total_df.transpose()\n",
        "\n",
        "  result = []\n",
        "  for user_id,user_ratings in total.items():\n",
        "    result.append(total_df.loc[user_id])\n",
        "\n",
        "  #Developing recommendations\n",
        "  recommendations = []\n",
        "  for i in result:\n",
        "    recommended_movieIds=[]\n",
        "    for x in range(0, n):\n",
        "      recommended_movieIds.append(i[x][0])\n",
        "    recommendations.append(recommended_movieIds)\n",
        "\n",
        "  recommendation_list = []\n",
        "  for i in recommendations:\n",
        "    df = movies_df[movies_df['movieId'].isin(i)]\n",
        "    temp = df['title'].tolist()\n",
        "    recommendation_list.append(temp)\n",
        "\n",
        "  recommendation_df = pd.DataFrame(recommendation_list)\n",
        "  return recommendation_df"
      ],
      "metadata": {
        "id": "eZZHVJyDYhw7"
      },
      "execution_count": 9,
      "outputs": []
    },
    {
      "cell_type": "markdown",
      "source": [
        "## Loading Dataset"
      ],
      "metadata": {
        "id": "sPwzeBbLYkmG"
      }
    },
    {
      "cell_type": "code",
      "source": [
        "ratings_df , movies_df = loadDataset()"
      ],
      "metadata": {
        "id": "yTclmQEKYqOK"
      },
      "execution_count": 10,
      "outputs": []
    },
    {
      "cell_type": "code",
      "source": [
        "reader = Reader(rating_scale=(0.5, 5.0))\n",
        "ratings_keys = ['userId', 'movieId', 'rating']\n",
        "ratings_filter = ratings_df[ratings_keys]\n",
        "ratings_data = Dataset.load_from_df(ratings_filter, reader)"
      ],
      "metadata": {
        "id": "FA0ZuL-sYsdT"
      },
      "execution_count": 11,
      "outputs": []
    },
    {
      "cell_type": "markdown",
      "source": [
        "## Modeling Selection"
      ],
      "metadata": {
        "id": "4916RWGgY4pm"
      }
    },
    {
      "cell_type": "markdown",
      "source": [
        "## SVD"
      ],
      "metadata": {
        "id": "Cf9494UPZFS3"
      }
    },
    {
      "cell_type": "code",
      "source": [
        "msd_knn = SVD(n_factors=30, n_epochs=20, lr_all=0.008, reg_all=0.08)\n",
        "#msd_preds = msd_knn.fit(trainset).test(testset)\n"
      ],
      "metadata": {
        "id": "y4cVPgFTaD-R"
      },
      "execution_count": 14,
      "outputs": []
    },
    {
      "cell_type": "code",
      "source": [
        "# Generating evaluation metrics Precision, Recall, F1-Score, RMSE, MAE for the ratings dataset\n",
        "msd_metrics = fit(msd_knn, ratings_data)\n",
        "msd_metrics"
      ],
      "metadata": {
        "colab": {
          "base_uri": "https://localhost:8080/",
          "height": 206
        },
        "id": "D5lra1EZaaxw",
        "outputId": "6ef8c44a-09c5-4cf9-cf47-22ff0392d5ae"
      },
      "execution_count": 15,
      "outputs": [
        {
          "output_type": "execute_result",
          "data": {
            "text/plain": [
              "   Split  Precision    Recall      RMSE  F1 Score       MAE\n",
              "0      1   0.548520  0.236316  0.862594  0.330321  0.664543\n",
              "1      2   0.561349  0.224143  0.863474  0.320366  0.662147\n",
              "2      3   0.565191  0.231533  0.868780  0.328496  0.668859\n",
              "3      4   0.544781  0.220180  0.866797  0.313611  0.666397\n",
              "4      5   0.546721  0.221236  0.866124  0.315003  0.663583"
            ],
            "text/html": [
              "\n",
              "  <div id=\"df-ffbcfb06-8d43-4236-b40f-6d1922927881\">\n",
              "    <div class=\"colab-df-container\">\n",
              "      <div>\n",
              "<style scoped>\n",
              "    .dataframe tbody tr th:only-of-type {\n",
              "        vertical-align: middle;\n",
              "    }\n",
              "\n",
              "    .dataframe tbody tr th {\n",
              "        vertical-align: top;\n",
              "    }\n",
              "\n",
              "    .dataframe thead th {\n",
              "        text-align: right;\n",
              "    }\n",
              "</style>\n",
              "<table border=\"1\" class=\"dataframe\">\n",
              "  <thead>\n",
              "    <tr style=\"text-align: right;\">\n",
              "      <th></th>\n",
              "      <th>Split</th>\n",
              "      <th>Precision</th>\n",
              "      <th>Recall</th>\n",
              "      <th>RMSE</th>\n",
              "      <th>F1 Score</th>\n",
              "      <th>MAE</th>\n",
              "    </tr>\n",
              "  </thead>\n",
              "  <tbody>\n",
              "    <tr>\n",
              "      <th>0</th>\n",
              "      <td>1</td>\n",
              "      <td>0.548520</td>\n",
              "      <td>0.236316</td>\n",
              "      <td>0.862594</td>\n",
              "      <td>0.330321</td>\n",
              "      <td>0.664543</td>\n",
              "    </tr>\n",
              "    <tr>\n",
              "      <th>1</th>\n",
              "      <td>2</td>\n",
              "      <td>0.561349</td>\n",
              "      <td>0.224143</td>\n",
              "      <td>0.863474</td>\n",
              "      <td>0.320366</td>\n",
              "      <td>0.662147</td>\n",
              "    </tr>\n",
              "    <tr>\n",
              "      <th>2</th>\n",
              "      <td>3</td>\n",
              "      <td>0.565191</td>\n",
              "      <td>0.231533</td>\n",
              "      <td>0.868780</td>\n",
              "      <td>0.328496</td>\n",
              "      <td>0.668859</td>\n",
              "    </tr>\n",
              "    <tr>\n",
              "      <th>3</th>\n",
              "      <td>4</td>\n",
              "      <td>0.544781</td>\n",
              "      <td>0.220180</td>\n",
              "      <td>0.866797</td>\n",
              "      <td>0.313611</td>\n",
              "      <td>0.666397</td>\n",
              "    </tr>\n",
              "    <tr>\n",
              "      <th>4</th>\n",
              "      <td>5</td>\n",
              "      <td>0.546721</td>\n",
              "      <td>0.221236</td>\n",
              "      <td>0.866124</td>\n",
              "      <td>0.315003</td>\n",
              "      <td>0.663583</td>\n",
              "    </tr>\n",
              "  </tbody>\n",
              "</table>\n",
              "</div>\n",
              "      <button class=\"colab-df-convert\" onclick=\"convertToInteractive('df-ffbcfb06-8d43-4236-b40f-6d1922927881')\"\n",
              "              title=\"Convert this dataframe to an interactive table.\"\n",
              "              style=\"display:none;\">\n",
              "        \n",
              "  <svg xmlns=\"http://www.w3.org/2000/svg\" height=\"24px\"viewBox=\"0 0 24 24\"\n",
              "       width=\"24px\">\n",
              "    <path d=\"M0 0h24v24H0V0z\" fill=\"none\"/>\n",
              "    <path d=\"M18.56 5.44l.94 2.06.94-2.06 2.06-.94-2.06-.94-.94-2.06-.94 2.06-2.06.94zm-11 1L8.5 8.5l.94-2.06 2.06-.94-2.06-.94L8.5 2.5l-.94 2.06-2.06.94zm10 10l.94 2.06.94-2.06 2.06-.94-2.06-.94-.94-2.06-.94 2.06-2.06.94z\"/><path d=\"M17.41 7.96l-1.37-1.37c-.4-.4-.92-.59-1.43-.59-.52 0-1.04.2-1.43.59L10.3 9.45l-7.72 7.72c-.78.78-.78 2.05 0 2.83L4 21.41c.39.39.9.59 1.41.59.51 0 1.02-.2 1.41-.59l7.78-7.78 2.81-2.81c.8-.78.8-2.07 0-2.86zM5.41 20L4 18.59l7.72-7.72 1.47 1.35L5.41 20z\"/>\n",
              "  </svg>\n",
              "      </button>\n",
              "      \n",
              "  <style>\n",
              "    .colab-df-container {\n",
              "      display:flex;\n",
              "      flex-wrap:wrap;\n",
              "      gap: 12px;\n",
              "    }\n",
              "\n",
              "    .colab-df-convert {\n",
              "      background-color: #E8F0FE;\n",
              "      border: none;\n",
              "      border-radius: 50%;\n",
              "      cursor: pointer;\n",
              "      display: none;\n",
              "      fill: #1967D2;\n",
              "      height: 32px;\n",
              "      padding: 0 0 0 0;\n",
              "      width: 32px;\n",
              "    }\n",
              "\n",
              "    .colab-df-convert:hover {\n",
              "      background-color: #E2EBFA;\n",
              "      box-shadow: 0px 1px 2px rgba(60, 64, 67, 0.3), 0px 1px 3px 1px rgba(60, 64, 67, 0.15);\n",
              "      fill: #174EA6;\n",
              "    }\n",
              "\n",
              "    [theme=dark] .colab-df-convert {\n",
              "      background-color: #3B4455;\n",
              "      fill: #D2E3FC;\n",
              "    }\n",
              "\n",
              "    [theme=dark] .colab-df-convert:hover {\n",
              "      background-color: #434B5C;\n",
              "      box-shadow: 0px 1px 3px 1px rgba(0, 0, 0, 0.15);\n",
              "      filter: drop-shadow(0px 1px 2px rgba(0, 0, 0, 0.3));\n",
              "      fill: #FFFFFF;\n",
              "    }\n",
              "  </style>\n",
              "\n",
              "      <script>\n",
              "        const buttonEl =\n",
              "          document.querySelector('#df-ffbcfb06-8d43-4236-b40f-6d1922927881 button.colab-df-convert');\n",
              "        buttonEl.style.display =\n",
              "          google.colab.kernel.accessAllowed ? 'block' : 'none';\n",
              "\n",
              "        async function convertToInteractive(key) {\n",
              "          const element = document.querySelector('#df-ffbcfb06-8d43-4236-b40f-6d1922927881');\n",
              "          const dataTable =\n",
              "            await google.colab.kernel.invokeFunction('convertToInteractive',\n",
              "                                                     [key], {});\n",
              "          if (!dataTable) return;\n",
              "\n",
              "          const docLinkHtml = 'Like what you see? Visit the ' +\n",
              "            '<a target=\"_blank\" href=https://colab.research.google.com/notebooks/data_table.ipynb>data table notebook</a>'\n",
              "            + ' to learn more about interactive tables.';\n",
              "          element.innerHTML = '';\n",
              "          dataTable['output_type'] = 'display_data';\n",
              "          await google.colab.output.renderOutput(dataTable, element);\n",
              "          const docLink = document.createElement('div');\n",
              "          docLink.innerHTML = docLinkHtml;\n",
              "          element.appendChild(docLink);\n",
              "        }\n",
              "      </script>\n",
              "    </div>\n",
              "  </div>\n",
              "  "
            ]
          },
          "metadata": {},
          "execution_count": 15
        }
      ]
    },
    {
      "cell_type": "code",
      "source": [
        "msd_predictions = inference(msd_knn)"
      ],
      "metadata": {
        "id": "FljSQ8pUamoF"
      },
      "execution_count": 16,
      "outputs": []
    },
    {
      "cell_type": "code",
      "source": [
        "msd_df = getRecommendations(msd_predictions)\n",
        "msd_df.to_csv(dir+'/msd_knn.csv',index = False)"
      ],
      "metadata": {
        "id": "xfvgzCH1askr"
      },
      "execution_count": 17,
      "outputs": []
    },
    {
      "cell_type": "markdown",
      "source": [
        "### Using Pearson Correlation"
      ],
      "metadata": {
        "id": "yOzZ3xmVbCzK"
      }
    },
    {
      "cell_type": "code",
      "source": [
        "# Defining the similarity options with pearson correlation.\n",
        "sim_options = {\n",
        "    'name': 'pearson'\n",
        "}\n",
        "\n",
        "pearson_knn = KNNBasic(k= 35, n_epochs=25,sim_options = sim_options)\n",
        "#cosine_preds = cosine_knn.fit(trainset).test(testset)\n"
      ],
      "metadata": {
        "id": "by7JDCubbd0K"
      },
      "execution_count": 18,
      "outputs": []
    },
    {
      "cell_type": "code",
      "source": [
        "# Generating evaluation metrics Precision, Recall, F1-Score, RMSE, MAE for the ratings dataset\n",
        "pearson_metrics = fit(pearson_knn, ratings_data)\n",
        "pearson_metrics"
      ],
      "metadata": {
        "colab": {
          "base_uri": "https://localhost:8080/",
          "height": 385
        },
        "id": "P4Pv25Dkbg_b",
        "outputId": "7eb96859-ba38-4704-b127-a14a28c79814"
      },
      "execution_count": 19,
      "outputs": [
        {
          "output_type": "stream",
          "name": "stdout",
          "text": [
            "Computing the pearson similarity matrix...\n",
            "Done computing similarity matrix.\n",
            "Computing the pearson similarity matrix...\n",
            "Done computing similarity matrix.\n",
            "Computing the pearson similarity matrix...\n",
            "Done computing similarity matrix.\n",
            "Computing the pearson similarity matrix...\n",
            "Done computing similarity matrix.\n",
            "Computing the pearson similarity matrix...\n",
            "Done computing similarity matrix.\n"
          ]
        },
        {
          "output_type": "execute_result",
          "data": {
            "text/plain": [
              "   Split  Precision    Recall      RMSE  F1 Score       MAE\n",
              "0      1   0.674863  0.258725  0.977619  0.374049  0.753428\n",
              "1      2   0.667350  0.252646  0.974418  0.366530  0.751248\n",
              "2      3   0.665246  0.250244  0.974457  0.363683  0.751480\n",
              "3      4   0.656557  0.252257  0.962989  0.364478  0.747752\n",
              "4      5   0.658169  0.256541  0.975063  0.369182  0.751986"
            ],
            "text/html": [
              "\n",
              "  <div id=\"df-12c2928e-86e0-4ffa-8032-4db85825e87e\">\n",
              "    <div class=\"colab-df-container\">\n",
              "      <div>\n",
              "<style scoped>\n",
              "    .dataframe tbody tr th:only-of-type {\n",
              "        vertical-align: middle;\n",
              "    }\n",
              "\n",
              "    .dataframe tbody tr th {\n",
              "        vertical-align: top;\n",
              "    }\n",
              "\n",
              "    .dataframe thead th {\n",
              "        text-align: right;\n",
              "    }\n",
              "</style>\n",
              "<table border=\"1\" class=\"dataframe\">\n",
              "  <thead>\n",
              "    <tr style=\"text-align: right;\">\n",
              "      <th></th>\n",
              "      <th>Split</th>\n",
              "      <th>Precision</th>\n",
              "      <th>Recall</th>\n",
              "      <th>RMSE</th>\n",
              "      <th>F1 Score</th>\n",
              "      <th>MAE</th>\n",
              "    </tr>\n",
              "  </thead>\n",
              "  <tbody>\n",
              "    <tr>\n",
              "      <th>0</th>\n",
              "      <td>1</td>\n",
              "      <td>0.674863</td>\n",
              "      <td>0.258725</td>\n",
              "      <td>0.977619</td>\n",
              "      <td>0.374049</td>\n",
              "      <td>0.753428</td>\n",
              "    </tr>\n",
              "    <tr>\n",
              "      <th>1</th>\n",
              "      <td>2</td>\n",
              "      <td>0.667350</td>\n",
              "      <td>0.252646</td>\n",
              "      <td>0.974418</td>\n",
              "      <td>0.366530</td>\n",
              "      <td>0.751248</td>\n",
              "    </tr>\n",
              "    <tr>\n",
              "      <th>2</th>\n",
              "      <td>3</td>\n",
              "      <td>0.665246</td>\n",
              "      <td>0.250244</td>\n",
              "      <td>0.974457</td>\n",
              "      <td>0.363683</td>\n",
              "      <td>0.751480</td>\n",
              "    </tr>\n",
              "    <tr>\n",
              "      <th>3</th>\n",
              "      <td>4</td>\n",
              "      <td>0.656557</td>\n",
              "      <td>0.252257</td>\n",
              "      <td>0.962989</td>\n",
              "      <td>0.364478</td>\n",
              "      <td>0.747752</td>\n",
              "    </tr>\n",
              "    <tr>\n",
              "      <th>4</th>\n",
              "      <td>5</td>\n",
              "      <td>0.658169</td>\n",
              "      <td>0.256541</td>\n",
              "      <td>0.975063</td>\n",
              "      <td>0.369182</td>\n",
              "      <td>0.751986</td>\n",
              "    </tr>\n",
              "  </tbody>\n",
              "</table>\n",
              "</div>\n",
              "      <button class=\"colab-df-convert\" onclick=\"convertToInteractive('df-12c2928e-86e0-4ffa-8032-4db85825e87e')\"\n",
              "              title=\"Convert this dataframe to an interactive table.\"\n",
              "              style=\"display:none;\">\n",
              "        \n",
              "  <svg xmlns=\"http://www.w3.org/2000/svg\" height=\"24px\"viewBox=\"0 0 24 24\"\n",
              "       width=\"24px\">\n",
              "    <path d=\"M0 0h24v24H0V0z\" fill=\"none\"/>\n",
              "    <path d=\"M18.56 5.44l.94 2.06.94-2.06 2.06-.94-2.06-.94-.94-2.06-.94 2.06-2.06.94zm-11 1L8.5 8.5l.94-2.06 2.06-.94-2.06-.94L8.5 2.5l-.94 2.06-2.06.94zm10 10l.94 2.06.94-2.06 2.06-.94-2.06-.94-.94-2.06-.94 2.06-2.06.94z\"/><path d=\"M17.41 7.96l-1.37-1.37c-.4-.4-.92-.59-1.43-.59-.52 0-1.04.2-1.43.59L10.3 9.45l-7.72 7.72c-.78.78-.78 2.05 0 2.83L4 21.41c.39.39.9.59 1.41.59.51 0 1.02-.2 1.41-.59l7.78-7.78 2.81-2.81c.8-.78.8-2.07 0-2.86zM5.41 20L4 18.59l7.72-7.72 1.47 1.35L5.41 20z\"/>\n",
              "  </svg>\n",
              "      </button>\n",
              "      \n",
              "  <style>\n",
              "    .colab-df-container {\n",
              "      display:flex;\n",
              "      flex-wrap:wrap;\n",
              "      gap: 12px;\n",
              "    }\n",
              "\n",
              "    .colab-df-convert {\n",
              "      background-color: #E8F0FE;\n",
              "      border: none;\n",
              "      border-radius: 50%;\n",
              "      cursor: pointer;\n",
              "      display: none;\n",
              "      fill: #1967D2;\n",
              "      height: 32px;\n",
              "      padding: 0 0 0 0;\n",
              "      width: 32px;\n",
              "    }\n",
              "\n",
              "    .colab-df-convert:hover {\n",
              "      background-color: #E2EBFA;\n",
              "      box-shadow: 0px 1px 2px rgba(60, 64, 67, 0.3), 0px 1px 3px 1px rgba(60, 64, 67, 0.15);\n",
              "      fill: #174EA6;\n",
              "    }\n",
              "\n",
              "    [theme=dark] .colab-df-convert {\n",
              "      background-color: #3B4455;\n",
              "      fill: #D2E3FC;\n",
              "    }\n",
              "\n",
              "    [theme=dark] .colab-df-convert:hover {\n",
              "      background-color: #434B5C;\n",
              "      box-shadow: 0px 1px 3px 1px rgba(0, 0, 0, 0.15);\n",
              "      filter: drop-shadow(0px 1px 2px rgba(0, 0, 0, 0.3));\n",
              "      fill: #FFFFFF;\n",
              "    }\n",
              "  </style>\n",
              "\n",
              "      <script>\n",
              "        const buttonEl =\n",
              "          document.querySelector('#df-12c2928e-86e0-4ffa-8032-4db85825e87e button.colab-df-convert');\n",
              "        buttonEl.style.display =\n",
              "          google.colab.kernel.accessAllowed ? 'block' : 'none';\n",
              "\n",
              "        async function convertToInteractive(key) {\n",
              "          const element = document.querySelector('#df-12c2928e-86e0-4ffa-8032-4db85825e87e');\n",
              "          const dataTable =\n",
              "            await google.colab.kernel.invokeFunction('convertToInteractive',\n",
              "                                                     [key], {});\n",
              "          if (!dataTable) return;\n",
              "\n",
              "          const docLinkHtml = 'Like what you see? Visit the ' +\n",
              "            '<a target=\"_blank\" href=https://colab.research.google.com/notebooks/data_table.ipynb>data table notebook</a>'\n",
              "            + ' to learn more about interactive tables.';\n",
              "          element.innerHTML = '';\n",
              "          dataTable['output_type'] = 'display_data';\n",
              "          await google.colab.output.renderOutput(dataTable, element);\n",
              "          const docLink = document.createElement('div');\n",
              "          docLink.innerHTML = docLinkHtml;\n",
              "          element.appendChild(docLink);\n",
              "        }\n",
              "      </script>\n",
              "    </div>\n",
              "  </div>\n",
              "  "
            ]
          },
          "metadata": {},
          "execution_count": 19
        }
      ]
    },
    {
      "cell_type": "code",
      "source": [
        "\n",
        "pearson_predictions = inference(pearson_knn)"
      ],
      "metadata": {
        "colab": {
          "base_uri": "https://localhost:8080/"
        },
        "id": "FrpKeA5bbjwQ",
        "outputId": "b39678cf-67ec-4b7e-dca6-e2a9c7b5c76f"
      },
      "execution_count": 20,
      "outputs": [
        {
          "output_type": "stream",
          "name": "stdout",
          "text": [
            "Computing the pearson similarity matrix...\n",
            "Done computing similarity matrix.\n"
          ]
        }
      ]
    },
    {
      "cell_type": "code",
      "source": [
        "\n",
        "pearson_df = getRecommendations(pearson_predictions)\n",
        "pearson_df.to_csv(dir+'/pearson_knn.csv',index = False)"
      ],
      "metadata": {
        "id": "toq6ybHkbmN3"
      },
      "execution_count": 22,
      "outputs": []
    },
    {
      "cell_type": "markdown",
      "source": [
        "### Using Cosine similarity"
      ],
      "metadata": {
        "id": "RN1PV4YhbrEC"
      }
    },
    {
      "cell_type": "code",
      "source": [
        "# Defining the similarity options with cosine similarity.\n",
        "sim_options = {\n",
        "    'name': 'cosine'\n",
        "}\n",
        "\n",
        "cosine_knn = KNNBasic(k= 35, n_epochs=25)\n",
        "#cosine_preds = cosine_knn.fit(trainset).test(testset)\n"
      ],
      "metadata": {
        "id": "ZkvJdPdDcD7n"
      },
      "execution_count": 21,
      "outputs": []
    },
    {
      "cell_type": "code",
      "source": [
        "# Generating evaluation metrics Precision, Recall, F1-Score, RMSE, MAE for the ratings dataset\n",
        "cosine_metrics = fit(cosine_knn, ratings_data)\n",
        "cosine_metrics"
      ],
      "metadata": {
        "colab": {
          "base_uri": "https://localhost:8080/",
          "height": 385
        },
        "id": "kVIo18N1cGb7",
        "outputId": "d70c9c3e-d6e7-42da-e117-29af348a76f4"
      },
      "execution_count": 23,
      "outputs": [
        {
          "output_type": "stream",
          "name": "stdout",
          "text": [
            "Computing the msd similarity matrix...\n",
            "Done computing similarity matrix.\n",
            "Computing the msd similarity matrix...\n",
            "Done computing similarity matrix.\n",
            "Computing the msd similarity matrix...\n",
            "Done computing similarity matrix.\n",
            "Computing the msd similarity matrix...\n",
            "Done computing similarity matrix.\n",
            "Computing the msd similarity matrix...\n",
            "Done computing similarity matrix.\n"
          ]
        },
        {
          "output_type": "execute_result",
          "data": {
            "text/plain": [
              "   Split  Precision    Recall      RMSE  F1 Score       MAE\n",
              "0      1   0.680410  0.270976  0.950086  0.387592  0.726868\n",
              "1      2   0.671120  0.263702  0.955591  0.378630  0.733790\n",
              "2      3   0.667679  0.270994  0.941897  0.385516  0.723044\n",
              "3      4   0.668966  0.267299  0.939538  0.381973  0.718660\n",
              "4      5   0.662459  0.266613  0.943613  0.380207  0.721111"
            ],
            "text/html": [
              "\n",
              "  <div id=\"df-fd71201f-83bd-421d-927e-2bdcfcb00c66\">\n",
              "    <div class=\"colab-df-container\">\n",
              "      <div>\n",
              "<style scoped>\n",
              "    .dataframe tbody tr th:only-of-type {\n",
              "        vertical-align: middle;\n",
              "    }\n",
              "\n",
              "    .dataframe tbody tr th {\n",
              "        vertical-align: top;\n",
              "    }\n",
              "\n",
              "    .dataframe thead th {\n",
              "        text-align: right;\n",
              "    }\n",
              "</style>\n",
              "<table border=\"1\" class=\"dataframe\">\n",
              "  <thead>\n",
              "    <tr style=\"text-align: right;\">\n",
              "      <th></th>\n",
              "      <th>Split</th>\n",
              "      <th>Precision</th>\n",
              "      <th>Recall</th>\n",
              "      <th>RMSE</th>\n",
              "      <th>F1 Score</th>\n",
              "      <th>MAE</th>\n",
              "    </tr>\n",
              "  </thead>\n",
              "  <tbody>\n",
              "    <tr>\n",
              "      <th>0</th>\n",
              "      <td>1</td>\n",
              "      <td>0.680410</td>\n",
              "      <td>0.270976</td>\n",
              "      <td>0.950086</td>\n",
              "      <td>0.387592</td>\n",
              "      <td>0.726868</td>\n",
              "    </tr>\n",
              "    <tr>\n",
              "      <th>1</th>\n",
              "      <td>2</td>\n",
              "      <td>0.671120</td>\n",
              "      <td>0.263702</td>\n",
              "      <td>0.955591</td>\n",
              "      <td>0.378630</td>\n",
              "      <td>0.733790</td>\n",
              "    </tr>\n",
              "    <tr>\n",
              "      <th>2</th>\n",
              "      <td>3</td>\n",
              "      <td>0.667679</td>\n",
              "      <td>0.270994</td>\n",
              "      <td>0.941897</td>\n",
              "      <td>0.385516</td>\n",
              "      <td>0.723044</td>\n",
              "    </tr>\n",
              "    <tr>\n",
              "      <th>3</th>\n",
              "      <td>4</td>\n",
              "      <td>0.668966</td>\n",
              "      <td>0.267299</td>\n",
              "      <td>0.939538</td>\n",
              "      <td>0.381973</td>\n",
              "      <td>0.718660</td>\n",
              "    </tr>\n",
              "    <tr>\n",
              "      <th>4</th>\n",
              "      <td>5</td>\n",
              "      <td>0.662459</td>\n",
              "      <td>0.266613</td>\n",
              "      <td>0.943613</td>\n",
              "      <td>0.380207</td>\n",
              "      <td>0.721111</td>\n",
              "    </tr>\n",
              "  </tbody>\n",
              "</table>\n",
              "</div>\n",
              "      <button class=\"colab-df-convert\" onclick=\"convertToInteractive('df-fd71201f-83bd-421d-927e-2bdcfcb00c66')\"\n",
              "              title=\"Convert this dataframe to an interactive table.\"\n",
              "              style=\"display:none;\">\n",
              "        \n",
              "  <svg xmlns=\"http://www.w3.org/2000/svg\" height=\"24px\"viewBox=\"0 0 24 24\"\n",
              "       width=\"24px\">\n",
              "    <path d=\"M0 0h24v24H0V0z\" fill=\"none\"/>\n",
              "    <path d=\"M18.56 5.44l.94 2.06.94-2.06 2.06-.94-2.06-.94-.94-2.06-.94 2.06-2.06.94zm-11 1L8.5 8.5l.94-2.06 2.06-.94-2.06-.94L8.5 2.5l-.94 2.06-2.06.94zm10 10l.94 2.06.94-2.06 2.06-.94-2.06-.94-.94-2.06-.94 2.06-2.06.94z\"/><path d=\"M17.41 7.96l-1.37-1.37c-.4-.4-.92-.59-1.43-.59-.52 0-1.04.2-1.43.59L10.3 9.45l-7.72 7.72c-.78.78-.78 2.05 0 2.83L4 21.41c.39.39.9.59 1.41.59.51 0 1.02-.2 1.41-.59l7.78-7.78 2.81-2.81c.8-.78.8-2.07 0-2.86zM5.41 20L4 18.59l7.72-7.72 1.47 1.35L5.41 20z\"/>\n",
              "  </svg>\n",
              "      </button>\n",
              "      \n",
              "  <style>\n",
              "    .colab-df-container {\n",
              "      display:flex;\n",
              "      flex-wrap:wrap;\n",
              "      gap: 12px;\n",
              "    }\n",
              "\n",
              "    .colab-df-convert {\n",
              "      background-color: #E8F0FE;\n",
              "      border: none;\n",
              "      border-radius: 50%;\n",
              "      cursor: pointer;\n",
              "      display: none;\n",
              "      fill: #1967D2;\n",
              "      height: 32px;\n",
              "      padding: 0 0 0 0;\n",
              "      width: 32px;\n",
              "    }\n",
              "\n",
              "    .colab-df-convert:hover {\n",
              "      background-color: #E2EBFA;\n",
              "      box-shadow: 0px 1px 2px rgba(60, 64, 67, 0.3), 0px 1px 3px 1px rgba(60, 64, 67, 0.15);\n",
              "      fill: #174EA6;\n",
              "    }\n",
              "\n",
              "    [theme=dark] .colab-df-convert {\n",
              "      background-color: #3B4455;\n",
              "      fill: #D2E3FC;\n",
              "    }\n",
              "\n",
              "    [theme=dark] .colab-df-convert:hover {\n",
              "      background-color: #434B5C;\n",
              "      box-shadow: 0px 1px 3px 1px rgba(0, 0, 0, 0.15);\n",
              "      filter: drop-shadow(0px 1px 2px rgba(0, 0, 0, 0.3));\n",
              "      fill: #FFFFFF;\n",
              "    }\n",
              "  </style>\n",
              "\n",
              "      <script>\n",
              "        const buttonEl =\n",
              "          document.querySelector('#df-fd71201f-83bd-421d-927e-2bdcfcb00c66 button.colab-df-convert');\n",
              "        buttonEl.style.display =\n",
              "          google.colab.kernel.accessAllowed ? 'block' : 'none';\n",
              "\n",
              "        async function convertToInteractive(key) {\n",
              "          const element = document.querySelector('#df-fd71201f-83bd-421d-927e-2bdcfcb00c66');\n",
              "          const dataTable =\n",
              "            await google.colab.kernel.invokeFunction('convertToInteractive',\n",
              "                                                     [key], {});\n",
              "          if (!dataTable) return;\n",
              "\n",
              "          const docLinkHtml = 'Like what you see? Visit the ' +\n",
              "            '<a target=\"_blank\" href=https://colab.research.google.com/notebooks/data_table.ipynb>data table notebook</a>'\n",
              "            + ' to learn more about interactive tables.';\n",
              "          element.innerHTML = '';\n",
              "          dataTable['output_type'] = 'display_data';\n",
              "          await google.colab.output.renderOutput(dataTable, element);\n",
              "          const docLink = document.createElement('div');\n",
              "          docLink.innerHTML = docLinkHtml;\n",
              "          element.appendChild(docLink);\n",
              "        }\n",
              "      </script>\n",
              "    </div>\n",
              "  </div>\n",
              "  "
            ]
          },
          "metadata": {},
          "execution_count": 23
        }
      ]
    },
    {
      "cell_type": "code",
      "source": [
        "cosine_predictions = inference(cosine_knn)\n"
      ],
      "metadata": {
        "colab": {
          "base_uri": "https://localhost:8080/"
        },
        "id": "PqDUr6f5cLnQ",
        "outputId": "be17a427-f1eb-40f6-8b37-bf2a7bb1c445"
      },
      "execution_count": 24,
      "outputs": [
        {
          "output_type": "stream",
          "name": "stdout",
          "text": [
            "Computing the msd similarity matrix...\n",
            "Done computing similarity matrix.\n"
          ]
        }
      ]
    },
    {
      "cell_type": "code",
      "source": [
        "cosine_df = getRecommendations(cosine_predictions)\n",
        "cosine_df.to_csv(dir+'/cosine_knn.csv',index = False)\n"
      ],
      "metadata": {
        "id": "ULy8iFtdcPAv"
      },
      "execution_count": 25,
      "outputs": []
    }
  ],
  "metadata": {
    "colab": {
      "collapsed_sections": [],
      "provenance": []
    },
    "kernelspec": {
      "display_name": "Python 3 (ipykernel)",
      "language": "python",
      "name": "python3"
    },
    "language_info": {
      "codemirror_mode": {
        "name": "ipython",
        "version": 3
      },
      "file_extension": ".py",
      "mimetype": "text/x-python",
      "name": "python",
      "nbconvert_exporter": "python",
      "pygments_lexer": "ipython3",
      "version": "3.9.13"
    }
  },
  "nbformat": 4,
  "nbformat_minor": 0
}