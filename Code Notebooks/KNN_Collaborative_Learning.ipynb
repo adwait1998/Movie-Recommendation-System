{
  "nbformat": 4,
  "nbformat_minor": 0,
  "metadata": {
    "colab": {
      "provenance": []
    },
    "kernelspec": {
      "name": "python3",
      "display_name": "Python 3"
    },
    "language_info": {
      "name": "python"
    },
    "accelerator": "GPU",
    "gpuClass": "standard"
  },
  "cells": [
    {
      "cell_type": "code",
      "source": [
        "from google.colab import drive\n",
        "drive.mount('/content/drive')"
      ],
      "metadata": {
        "id": "lUkw_C2ieR8J",
        "colab": {
          "base_uri": "https://localhost:8080/"
        },
        "outputId": "541e75aa-c98b-46f5-983d-f5643b6ab544"
      },
      "execution_count": null,
      "outputs": [
        {
          "output_type": "stream",
          "name": "stdout",
          "text": [
            "Mounted at /content/drive\n"
          ]
        }
      ]
    },
    {
      "cell_type": "markdown",
      "source": [
        "# Importing the Libraries"
      ],
      "metadata": {
        "id": "3ehiKtNidwiu"
      }
    },
    {
      "cell_type": "code",
      "execution_count": null,
      "metadata": {
        "colab": {
          "base_uri": "https://localhost:8080/"
        },
        "id": "50UmQtbY3HUR",
        "outputId": "cc66e8d9-3791-4fd3-bdc5-634c7df7e69b"
      },
      "outputs": [
        {
          "output_type": "stream",
          "name": "stdout",
          "text": [
            "Looking in indexes: https://pypi.org/simple, https://us-python.pkg.dev/colab-wheels/public/simple/\n",
            "Requirement already satisfied: scikit-surprise in /usr/local/lib/python3.7/dist-packages (1.1.1)\n",
            "Requirement already satisfied: six>=1.10.0 in /usr/local/lib/python3.7/dist-packages (from scikit-surprise) (1.15.0)\n",
            "Requirement already satisfied: joblib>=0.11 in /usr/local/lib/python3.7/dist-packages (from scikit-surprise) (1.2.0)\n",
            "Requirement already satisfied: numpy>=1.11.2 in /usr/local/lib/python3.7/dist-packages (from scikit-surprise) (1.21.6)\n",
            "Requirement already satisfied: scipy>=1.0.0 in /usr/local/lib/python3.7/dist-packages (from scikit-surprise) (1.7.3)\n"
          ]
        }
      ],
      "source": [
        "!pip install scikit-surprise\n",
        "import os\n",
        "import pandas as pd"
      ]
    },
    {
      "cell_type": "code",
      "source": [
        "from surprise import Reader\n",
        "from surprise import Dataset\n",
        "from surprise.model_selection import KFold\n",
        "from surprise.model_selection import cross_validate\n",
        "from surprise.model_selection import train_test_split\n",
        "from surprise.model_selection import GridSearchCV\n",
        "from surprise.accuracy import rmse\n",
        "from collections import defaultdict\n",
        "from surprise import KNNBasic\n",
        "from surprise import SVD\n",
        "from surprise import SVDpp\n",
        "from surprise import NMF\n",
        "from surprise import accuracy\n",
        "from surprise import AlgoBase\n",
        "from surprise.model_selection import KFold\n"
      ],
      "metadata": {
        "id": "cIXQua8x3uiE"
      },
      "execution_count": null,
      "outputs": []
    },
    {
      "cell_type": "markdown",
      "source": [
        "# Helper functions"
      ],
      "metadata": {
        "id": "zVQfdAHBdzE-"
      }
    },
    {
      "cell_type": "code",
      "source": [
        "# Function to load the ratings and movies datasets\n",
        "\n",
        "dir = '/content/drive/MyDrive/SWM/Data'\n",
        "def loadDataset():\n",
        "  ratings_df = pd.read_csv(dir+'/ratings.csv')\n",
        "  movies_df = pd.read_csv(dir+'/movies.csv')\n",
        "  \n",
        "  ratings_df.drop('timestamp',axis =1, inplace = True)\n",
        "\n",
        "  return ratings_df,movies_df\n"
      ],
      "metadata": {
        "id": "Mn9bpy8e3zBo"
      },
      "execution_count": null,
      "outputs": []
    },
    {
      "cell_type": "code",
      "source": [
        "# Calculates the evaluations metrics Precision and Recall for each loop of cross validation\n",
        "\n",
        "def metricsAtK(predictions, k=10, threshold=3.5):\n",
        "\n",
        "    # dictionary to store user and the respective predicted ratings of the movies\n",
        "    user_predicted = defaultdict(list)\n",
        "    for u_id, _, rating_actual, rating_predicted, _ in predictions:\n",
        "        user_predicted[u_id].append((rating_predicted, rating_actual))\n",
        "\n",
        "    precisions = dict()\n",
        "    recalls = dict()\n",
        "\n",
        "    for u_id, u_ratings in user_predicted.items():\n",
        "        u_ratings.sort(key=lambda x: x[0], reverse=True)\n",
        "\n",
        "        # Calculating actual values of the ratings\n",
        "        actual = sum((ratings_true >= threshold) for (_, ratings_true) in u_ratings)\n",
        "        # Calculating predicted values of the ratings\n",
        "        predicted = sum((estimate_value >= threshold) for (estimate_value, _) in u_ratings[:k])\n",
        "\n",
        "        # Calculating true positives and negatives\n",
        "        positive_true = sum(((ratings_true >= threshold) and (estimate_value >= threshold))\n",
        "                              for (estimate_value, ratings_true) in u_ratings[:k])\n",
        "        negative_true = sum(((ratings_true < threshold) and (estimate_value < threshold))\n",
        "                              for (estimate_value, ratings_true) in u_ratings[:k])\n",
        "        \n",
        "        # Calculating actual and predicted positives and negatives\n",
        "        positive_predicted = predicted if predicted != 0 else 1\n",
        "        negative_predicted = predicted if predicted != 1 else 0\n",
        "        positive_actual = actual if actual != 0 else 1\n",
        "        negative_actual = actual if actual != 1 else 0\n",
        "\n",
        "        # Calculating precision, recall and accuracy\n",
        "        precisions[u_id] = positive_true / positive_predicted\n",
        "        recalls[u_id] = positive_true / positive_actual\n",
        "\n",
        "    return precisions, recalls"
      ],
      "metadata": {
        "id": "iceY3j5XAs3x"
      },
      "execution_count": null,
      "outputs": []
    },
    {
      "cell_type": "code",
      "source": [
        "def fit(model, ratings_data, num_of_splits=5):\n",
        "  # Generator object for k - cross validation\n",
        "  kf = KFold(n_splits=num_of_splits)\n",
        "  split_df = list()\n",
        "\n",
        "  i = 1\n",
        "  for train, test in kf.split(ratings_data):\n",
        "      predictions = model.fit(train).test(test)\n",
        "      rmse = accuracy.rmse(predictions, verbose=False)\n",
        "      mae = accuracy.mae(predictions, verbose=False)\n",
        "      precisions, recalls = metricsAtK(predictions, k=5, threshold=4)\n",
        "      precision = sum(prec for prec in precisions.values()) / len(precisions)\n",
        "      recall = sum(rec for rec in recalls.values()) / len(recalls)\n",
        "      f1_score = (2*precision*recall)/(precision+recall)\n",
        "      split_df.append([i,precision,recall,rmse,f1_score,mae])\n",
        "      i +=1\n",
        "\n",
        "  split_df = pd.DataFrame(split_df, columns=['Split', 'Precision', 'Recall', 'RMSE', 'F1 Score', 'MAE'])\n",
        "  return split_df"
      ],
      "metadata": {
        "id": "-4MHnwYW_E_v"
      },
      "execution_count": null,
      "outputs": []
    },
    {
      "cell_type": "code",
      "source": [
        "def getSortedPredictions(predictions):\n",
        "    \n",
        "    sorted_predictions = defaultdict(list)    \n",
        "    for u_id, id, _, rating_predicted, _ in predictions:\n",
        "        sorted_predictions[u_id].append((id, rating_predicted))\n",
        "\n",
        "    for u_id, u_ratings in sorted_predictions.items():\n",
        "        u_ratings.sort(key=lambda x: x[1], reverse=True)\n",
        "\n",
        "    return sorted_predictions"
      ],
      "metadata": {
        "id": "mdr-TtsE5QbP"
      },
      "execution_count": null,
      "outputs": []
    },
    {
      "cell_type": "code",
      "source": [
        "def inference(model):\n",
        "  trainset = ratings_data.build_full_trainset()\n",
        "\n",
        "  # build_anti_testset will generate the entires for the movies which the user has not rated. i.e \n",
        "  # The completement of the user's ratings. It assumes the rating to be equal to the global mean of the ratings.\n",
        "  testset = trainset.build_anti_testset() \n",
        "\n",
        "  # Training the model with trainset and getting predictions using the generated testset\n",
        "  model.fit(trainset)\n",
        "  predictions = model.test(testset)\n",
        "\n",
        "  return predictions\n"
      ],
      "metadata": {
        "id": "W9zO2p572dNH"
      },
      "execution_count": null,
      "outputs": []
    },
    {
      "cell_type": "code",
      "source": [
        "# Post processing the predictions to produce the list of recommendations\n",
        "def getRecommendations(predictions, n=10):\n",
        "\n",
        "  # Getting sorted predictions\n",
        "  total = getSortedPredictions(predictions)\n",
        "\n",
        "  # Extracting only n number of movie predictions\n",
        "  for user_id, user_ratings in total.items():\n",
        "      total[user_id] = user_ratings[:n]\n",
        "\n",
        "  total_df = pd.DataFrame.from_dict(total)\n",
        "  total_df = total_df.transpose()\n",
        "\n",
        "  result = []\n",
        "  for user_id,user_ratings in total.items():\n",
        "    result.append(total_df.loc[user_id])\n",
        "\n",
        "  #Developing recommendations\n",
        "  recommendations = []\n",
        "  for i in result:\n",
        "    recommended_movieIds=[]\n",
        "    for x in range(0, n):\n",
        "      recommended_movieIds.append(i[x][0])\n",
        "    recommendations.append(recommended_movieIds)\n",
        "\n",
        "  recommendation_list = []\n",
        "  for i in recommendations:\n",
        "    df = movies_df[movies_df['movieId'].isin(i)]\n",
        "    temp = df['title'].tolist()\n",
        "    recommendation_list.append(temp)\n",
        "\n",
        "  recommendation_df = pd.DataFrame(recommendation_list)\n",
        "  return recommendation_df\n"
      ],
      "metadata": {
        "id": "GnS-kPwGCxJc"
      },
      "execution_count": null,
      "outputs": []
    },
    {
      "cell_type": "markdown",
      "source": [
        "# Loading Dataset"
      ],
      "metadata": {
        "id": "20IkoEjpDBjA"
      }
    },
    {
      "cell_type": "code",
      "source": [
        "ratings_df , movies_df = loadDataset()"
      ],
      "metadata": {
        "id": "NuuuvWhBDA-y"
      },
      "execution_count": null,
      "outputs": []
    },
    {
      "cell_type": "code",
      "source": [
        "reader = Reader(rating_scale=(0.5, 5.0))\n",
        "ratings_keys = ['userId', 'movieId', 'rating']\n",
        "ratings_filter = ratings_df[ratings_keys]\n",
        "ratings_data = Dataset.load_from_df(ratings_filter, reader)"
      ],
      "metadata": {
        "id": "PL-r5h0kDA7W"
      },
      "execution_count": null,
      "outputs": []
    },
    {
      "cell_type": "markdown",
      "source": [
        "# Modelling Section"
      ],
      "metadata": {
        "id": "lOmbF8IHerKE"
      }
    },
    {
      "cell_type": "markdown",
      "source": [
        "## K Nearest Neighbors"
      ],
      "metadata": {
        "id": "cHpXxK15e87g"
      }
    },
    {
      "cell_type": "markdown",
      "source": [
        "### Using MSD similarity"
      ],
      "metadata": {
        "id": "_uihNmq5iExR"
      }
    },
    {
      "cell_type": "code",
      "source": [
        "msd_knn = KNNBasic(k= 40, n_epochs=20)\n",
        "#msd_preds = msd_knn.fit(trainset).test(testset)\n"
      ],
      "metadata": {
        "id": "cDpRMJVkaksh"
      },
      "execution_count": null,
      "outputs": []
    },
    {
      "cell_type": "code",
      "source": [
        "# Generating evaluation metrics Precision, Recall, F1-Score, RMSE, MAE for the ratings dataset\n",
        "msd_metrics = fit(msd_knn, ratings_data)\n",
        "msd_metrics"
      ],
      "metadata": {
        "colab": {
          "base_uri": "https://localhost:8080/",
          "height": 380
        },
        "id": "oXRarMQyCaDP",
        "outputId": "dadfb26a-ffd5-42cd-fee0-f5b82a236971"
      },
      "execution_count": null,
      "outputs": [
        {
          "output_type": "stream",
          "name": "stdout",
          "text": [
            "Computing the msd similarity matrix...\n",
            "Done computing similarity matrix.\n",
            "Computing the msd similarity matrix...\n",
            "Done computing similarity matrix.\n",
            "Computing the msd similarity matrix...\n",
            "Done computing similarity matrix.\n",
            "Computing the msd similarity matrix...\n",
            "Done computing similarity matrix.\n",
            "Computing the msd similarity matrix...\n",
            "Done computing similarity matrix.\n"
          ]
        },
        {
          "output_type": "execute_result",
          "data": {
            "text/plain": [
              "   Split  Precision    Recall      RMSE  F1 Score       MAE\n",
              "0      1   0.664180  0.263817  0.944040  0.377635  0.723022\n",
              "1      2   0.674536  0.275144  0.951531  0.390857  0.729688\n",
              "2      3   0.687219  0.280952  0.950258  0.398846  0.726445\n",
              "3      4   0.650710  0.259220  0.947297  0.370747  0.725971\n",
              "4      5   0.670744  0.265253  0.942346  0.380165  0.723221"
            ],
            "text/html": [
              "\n",
              "  <div id=\"df-2ed29b1a-903b-4a33-a4d5-d8822b5c3734\">\n",
              "    <div class=\"colab-df-container\">\n",
              "      <div>\n",
              "<style scoped>\n",
              "    .dataframe tbody tr th:only-of-type {\n",
              "        vertical-align: middle;\n",
              "    }\n",
              "\n",
              "    .dataframe tbody tr th {\n",
              "        vertical-align: top;\n",
              "    }\n",
              "\n",
              "    .dataframe thead th {\n",
              "        text-align: right;\n",
              "    }\n",
              "</style>\n",
              "<table border=\"1\" class=\"dataframe\">\n",
              "  <thead>\n",
              "    <tr style=\"text-align: right;\">\n",
              "      <th></th>\n",
              "      <th>Split</th>\n",
              "      <th>Precision</th>\n",
              "      <th>Recall</th>\n",
              "      <th>RMSE</th>\n",
              "      <th>F1 Score</th>\n",
              "      <th>MAE</th>\n",
              "    </tr>\n",
              "  </thead>\n",
              "  <tbody>\n",
              "    <tr>\n",
              "      <th>0</th>\n",
              "      <td>1</td>\n",
              "      <td>0.664180</td>\n",
              "      <td>0.263817</td>\n",
              "      <td>0.944040</td>\n",
              "      <td>0.377635</td>\n",
              "      <td>0.723022</td>\n",
              "    </tr>\n",
              "    <tr>\n",
              "      <th>1</th>\n",
              "      <td>2</td>\n",
              "      <td>0.674536</td>\n",
              "      <td>0.275144</td>\n",
              "      <td>0.951531</td>\n",
              "      <td>0.390857</td>\n",
              "      <td>0.729688</td>\n",
              "    </tr>\n",
              "    <tr>\n",
              "      <th>2</th>\n",
              "      <td>3</td>\n",
              "      <td>0.687219</td>\n",
              "      <td>0.280952</td>\n",
              "      <td>0.950258</td>\n",
              "      <td>0.398846</td>\n",
              "      <td>0.726445</td>\n",
              "    </tr>\n",
              "    <tr>\n",
              "      <th>3</th>\n",
              "      <td>4</td>\n",
              "      <td>0.650710</td>\n",
              "      <td>0.259220</td>\n",
              "      <td>0.947297</td>\n",
              "      <td>0.370747</td>\n",
              "      <td>0.725971</td>\n",
              "    </tr>\n",
              "    <tr>\n",
              "      <th>4</th>\n",
              "      <td>5</td>\n",
              "      <td>0.670744</td>\n",
              "      <td>0.265253</td>\n",
              "      <td>0.942346</td>\n",
              "      <td>0.380165</td>\n",
              "      <td>0.723221</td>\n",
              "    </tr>\n",
              "  </tbody>\n",
              "</table>\n",
              "</div>\n",
              "      <button class=\"colab-df-convert\" onclick=\"convertToInteractive('df-2ed29b1a-903b-4a33-a4d5-d8822b5c3734')\"\n",
              "              title=\"Convert this dataframe to an interactive table.\"\n",
              "              style=\"display:none;\">\n",
              "        \n",
              "  <svg xmlns=\"http://www.w3.org/2000/svg\" height=\"24px\"viewBox=\"0 0 24 24\"\n",
              "       width=\"24px\">\n",
              "    <path d=\"M0 0h24v24H0V0z\" fill=\"none\"/>\n",
              "    <path d=\"M18.56 5.44l.94 2.06.94-2.06 2.06-.94-2.06-.94-.94-2.06-.94 2.06-2.06.94zm-11 1L8.5 8.5l.94-2.06 2.06-.94-2.06-.94L8.5 2.5l-.94 2.06-2.06.94zm10 10l.94 2.06.94-2.06 2.06-.94-2.06-.94-.94-2.06-.94 2.06-2.06.94z\"/><path d=\"M17.41 7.96l-1.37-1.37c-.4-.4-.92-.59-1.43-.59-.52 0-1.04.2-1.43.59L10.3 9.45l-7.72 7.72c-.78.78-.78 2.05 0 2.83L4 21.41c.39.39.9.59 1.41.59.51 0 1.02-.2 1.41-.59l7.78-7.78 2.81-2.81c.8-.78.8-2.07 0-2.86zM5.41 20L4 18.59l7.72-7.72 1.47 1.35L5.41 20z\"/>\n",
              "  </svg>\n",
              "      </button>\n",
              "      \n",
              "  <style>\n",
              "    .colab-df-container {\n",
              "      display:flex;\n",
              "      flex-wrap:wrap;\n",
              "      gap: 12px;\n",
              "    }\n",
              "\n",
              "    .colab-df-convert {\n",
              "      background-color: #E8F0FE;\n",
              "      border: none;\n",
              "      border-radius: 50%;\n",
              "      cursor: pointer;\n",
              "      display: none;\n",
              "      fill: #1967D2;\n",
              "      height: 32px;\n",
              "      padding: 0 0 0 0;\n",
              "      width: 32px;\n",
              "    }\n",
              "\n",
              "    .colab-df-convert:hover {\n",
              "      background-color: #E2EBFA;\n",
              "      box-shadow: 0px 1px 2px rgba(60, 64, 67, 0.3), 0px 1px 3px 1px rgba(60, 64, 67, 0.15);\n",
              "      fill: #174EA6;\n",
              "    }\n",
              "\n",
              "    [theme=dark] .colab-df-convert {\n",
              "      background-color: #3B4455;\n",
              "      fill: #D2E3FC;\n",
              "    }\n",
              "\n",
              "    [theme=dark] .colab-df-convert:hover {\n",
              "      background-color: #434B5C;\n",
              "      box-shadow: 0px 1px 3px 1px rgba(0, 0, 0, 0.15);\n",
              "      filter: drop-shadow(0px 1px 2px rgba(0, 0, 0, 0.3));\n",
              "      fill: #FFFFFF;\n",
              "    }\n",
              "  </style>\n",
              "\n",
              "      <script>\n",
              "        const buttonEl =\n",
              "          document.querySelector('#df-2ed29b1a-903b-4a33-a4d5-d8822b5c3734 button.colab-df-convert');\n",
              "        buttonEl.style.display =\n",
              "          google.colab.kernel.accessAllowed ? 'block' : 'none';\n",
              "\n",
              "        async function convertToInteractive(key) {\n",
              "          const element = document.querySelector('#df-2ed29b1a-903b-4a33-a4d5-d8822b5c3734');\n",
              "          const dataTable =\n",
              "            await google.colab.kernel.invokeFunction('convertToInteractive',\n",
              "                                                     [key], {});\n",
              "          if (!dataTable) return;\n",
              "\n",
              "          const docLinkHtml = 'Like what you see? Visit the ' +\n",
              "            '<a target=\"_blank\" href=https://colab.research.google.com/notebooks/data_table.ipynb>data table notebook</a>'\n",
              "            + ' to learn more about interactive tables.';\n",
              "          element.innerHTML = '';\n",
              "          dataTable['output_type'] = 'display_data';\n",
              "          await google.colab.output.renderOutput(dataTable, element);\n",
              "          const docLink = document.createElement('div');\n",
              "          docLink.innerHTML = docLinkHtml;\n",
              "          element.appendChild(docLink);\n",
              "        }\n",
              "      </script>\n",
              "    </div>\n",
              "  </div>\n",
              "  "
            ]
          },
          "metadata": {},
          "execution_count": 102
        }
      ]
    },
    {
      "cell_type": "code",
      "source": [
        "msd_predictions = inference(msd_knn)\n"
      ],
      "metadata": {
        "colab": {
          "base_uri": "https://localhost:8080/"
        },
        "id": "SOhE7gjrCZ_o",
        "outputId": "b4f5e165-d493-4a98-85bb-b18a05ef7582"
      },
      "execution_count": null,
      "outputs": [
        {
          "output_type": "stream",
          "name": "stdout",
          "text": [
            "Computing the msd similarity matrix...\n",
            "Done computing similarity matrix.\n"
          ]
        }
      ]
    },
    {
      "cell_type": "code",
      "source": [
        "msd_df = getRecommendations(msd_predictions)\n",
        "msd_df.to_csv(dir+'/msd_knn.csv',index = False)\n"
      ],
      "metadata": {
        "id": "xASqG7sPCZ7-"
      },
      "execution_count": null,
      "outputs": []
    },
    {
      "cell_type": "markdown",
      "source": [
        "### Using Pearson Correlation"
      ],
      "metadata": {
        "id": "PCAJpCXmjBJ4"
      }
    },
    {
      "cell_type": "code",
      "source": [
        "# Defining the similarity options with pearson correlation.\n",
        "sim_options = {\n",
        "    'name': 'pearson'\n",
        "}\n",
        "\n",
        "pearson_knn = KNNBasic(k= 35, n_epochs=25,sim_options = sim_options)\n",
        "#cosine_preds = cosine_knn.fit(trainset).test(testset)\n",
        "\n"
      ],
      "metadata": {
        "id": "GJ11WcDMigH9"
      },
      "execution_count": null,
      "outputs": []
    },
    {
      "cell_type": "code",
      "source": [
        "# Generating evaluation metrics Precision, Recall, F1-Score, RMSE, MAE for the ratings dataset\n",
        "pearson_metrics = fit(pearson_knn, ratings_data)\n",
        "pearson_metrics"
      ],
      "metadata": {
        "colab": {
          "base_uri": "https://localhost:8080/",
          "height": 380
        },
        "id": "nMIVlJ72AV72",
        "outputId": "1932541e-da17-4164-c36f-058b312ebcca"
      },
      "execution_count": null,
      "outputs": [
        {
          "output_type": "stream",
          "name": "stdout",
          "text": [
            "Computing the pearson similarity matrix...\n",
            "Done computing similarity matrix.\n",
            "Computing the pearson similarity matrix...\n",
            "Done computing similarity matrix.\n",
            "Computing the pearson similarity matrix...\n",
            "Done computing similarity matrix.\n",
            "Computing the pearson similarity matrix...\n",
            "Done computing similarity matrix.\n",
            "Computing the pearson similarity matrix...\n",
            "Done computing similarity matrix.\n"
          ]
        },
        {
          "output_type": "execute_result",
          "data": {
            "text/plain": [
              "   Split  Precision    Recall      RMSE  F1 Score       MAE\n",
              "0      1   0.660280  0.260717  0.982586  0.373826  0.759654\n",
              "1      2   0.660837  0.252177  0.978962  0.365050  0.755759\n",
              "2      3   0.654044  0.251259  0.973018  0.363049  0.751042\n",
              "3      4   0.657814  0.257065  0.966300  0.369669  0.742633\n",
              "4      5   0.643377  0.242410  0.969614  0.352141  0.749819"
            ],
            "text/html": [
              "\n",
              "  <div id=\"df-7be817f7-d3d6-4359-8c9e-4b08413b3815\">\n",
              "    <div class=\"colab-df-container\">\n",
              "      <div>\n",
              "<style scoped>\n",
              "    .dataframe tbody tr th:only-of-type {\n",
              "        vertical-align: middle;\n",
              "    }\n",
              "\n",
              "    .dataframe tbody tr th {\n",
              "        vertical-align: top;\n",
              "    }\n",
              "\n",
              "    .dataframe thead th {\n",
              "        text-align: right;\n",
              "    }\n",
              "</style>\n",
              "<table border=\"1\" class=\"dataframe\">\n",
              "  <thead>\n",
              "    <tr style=\"text-align: right;\">\n",
              "      <th></th>\n",
              "      <th>Split</th>\n",
              "      <th>Precision</th>\n",
              "      <th>Recall</th>\n",
              "      <th>RMSE</th>\n",
              "      <th>F1 Score</th>\n",
              "      <th>MAE</th>\n",
              "    </tr>\n",
              "  </thead>\n",
              "  <tbody>\n",
              "    <tr>\n",
              "      <th>0</th>\n",
              "      <td>1</td>\n",
              "      <td>0.660280</td>\n",
              "      <td>0.260717</td>\n",
              "      <td>0.982586</td>\n",
              "      <td>0.373826</td>\n",
              "      <td>0.759654</td>\n",
              "    </tr>\n",
              "    <tr>\n",
              "      <th>1</th>\n",
              "      <td>2</td>\n",
              "      <td>0.660837</td>\n",
              "      <td>0.252177</td>\n",
              "      <td>0.978962</td>\n",
              "      <td>0.365050</td>\n",
              "      <td>0.755759</td>\n",
              "    </tr>\n",
              "    <tr>\n",
              "      <th>2</th>\n",
              "      <td>3</td>\n",
              "      <td>0.654044</td>\n",
              "      <td>0.251259</td>\n",
              "      <td>0.973018</td>\n",
              "      <td>0.363049</td>\n",
              "      <td>0.751042</td>\n",
              "    </tr>\n",
              "    <tr>\n",
              "      <th>3</th>\n",
              "      <td>4</td>\n",
              "      <td>0.657814</td>\n",
              "      <td>0.257065</td>\n",
              "      <td>0.966300</td>\n",
              "      <td>0.369669</td>\n",
              "      <td>0.742633</td>\n",
              "    </tr>\n",
              "    <tr>\n",
              "      <th>4</th>\n",
              "      <td>5</td>\n",
              "      <td>0.643377</td>\n",
              "      <td>0.242410</td>\n",
              "      <td>0.969614</td>\n",
              "      <td>0.352141</td>\n",
              "      <td>0.749819</td>\n",
              "    </tr>\n",
              "  </tbody>\n",
              "</table>\n",
              "</div>\n",
              "      <button class=\"colab-df-convert\" onclick=\"convertToInteractive('df-7be817f7-d3d6-4359-8c9e-4b08413b3815')\"\n",
              "              title=\"Convert this dataframe to an interactive table.\"\n",
              "              style=\"display:none;\">\n",
              "        \n",
              "  <svg xmlns=\"http://www.w3.org/2000/svg\" height=\"24px\"viewBox=\"0 0 24 24\"\n",
              "       width=\"24px\">\n",
              "    <path d=\"M0 0h24v24H0V0z\" fill=\"none\"/>\n",
              "    <path d=\"M18.56 5.44l.94 2.06.94-2.06 2.06-.94-2.06-.94-.94-2.06-.94 2.06-2.06.94zm-11 1L8.5 8.5l.94-2.06 2.06-.94-2.06-.94L8.5 2.5l-.94 2.06-2.06.94zm10 10l.94 2.06.94-2.06 2.06-.94-2.06-.94-.94-2.06-.94 2.06-2.06.94z\"/><path d=\"M17.41 7.96l-1.37-1.37c-.4-.4-.92-.59-1.43-.59-.52 0-1.04.2-1.43.59L10.3 9.45l-7.72 7.72c-.78.78-.78 2.05 0 2.83L4 21.41c.39.39.9.59 1.41.59.51 0 1.02-.2 1.41-.59l7.78-7.78 2.81-2.81c.8-.78.8-2.07 0-2.86zM5.41 20L4 18.59l7.72-7.72 1.47 1.35L5.41 20z\"/>\n",
              "  </svg>\n",
              "      </button>\n",
              "      \n",
              "  <style>\n",
              "    .colab-df-container {\n",
              "      display:flex;\n",
              "      flex-wrap:wrap;\n",
              "      gap: 12px;\n",
              "    }\n",
              "\n",
              "    .colab-df-convert {\n",
              "      background-color: #E8F0FE;\n",
              "      border: none;\n",
              "      border-radius: 50%;\n",
              "      cursor: pointer;\n",
              "      display: none;\n",
              "      fill: #1967D2;\n",
              "      height: 32px;\n",
              "      padding: 0 0 0 0;\n",
              "      width: 32px;\n",
              "    }\n",
              "\n",
              "    .colab-df-convert:hover {\n",
              "      background-color: #E2EBFA;\n",
              "      box-shadow: 0px 1px 2px rgba(60, 64, 67, 0.3), 0px 1px 3px 1px rgba(60, 64, 67, 0.15);\n",
              "      fill: #174EA6;\n",
              "    }\n",
              "\n",
              "    [theme=dark] .colab-df-convert {\n",
              "      background-color: #3B4455;\n",
              "      fill: #D2E3FC;\n",
              "    }\n",
              "\n",
              "    [theme=dark] .colab-df-convert:hover {\n",
              "      background-color: #434B5C;\n",
              "      box-shadow: 0px 1px 3px 1px rgba(0, 0, 0, 0.15);\n",
              "      filter: drop-shadow(0px 1px 2px rgba(0, 0, 0, 0.3));\n",
              "      fill: #FFFFFF;\n",
              "    }\n",
              "  </style>\n",
              "\n",
              "      <script>\n",
              "        const buttonEl =\n",
              "          document.querySelector('#df-7be817f7-d3d6-4359-8c9e-4b08413b3815 button.colab-df-convert');\n",
              "        buttonEl.style.display =\n",
              "          google.colab.kernel.accessAllowed ? 'block' : 'none';\n",
              "\n",
              "        async function convertToInteractive(key) {\n",
              "          const element = document.querySelector('#df-7be817f7-d3d6-4359-8c9e-4b08413b3815');\n",
              "          const dataTable =\n",
              "            await google.colab.kernel.invokeFunction('convertToInteractive',\n",
              "                                                     [key], {});\n",
              "          if (!dataTable) return;\n",
              "\n",
              "          const docLinkHtml = 'Like what you see? Visit the ' +\n",
              "            '<a target=\"_blank\" href=https://colab.research.google.com/notebooks/data_table.ipynb>data table notebook</a>'\n",
              "            + ' to learn more about interactive tables.';\n",
              "          element.innerHTML = '';\n",
              "          dataTable['output_type'] = 'display_data';\n",
              "          await google.colab.output.renderOutput(dataTable, element);\n",
              "          const docLink = document.createElement('div');\n",
              "          docLink.innerHTML = docLinkHtml;\n",
              "          element.appendChild(docLink);\n",
              "        }\n",
              "      </script>\n",
              "    </div>\n",
              "  </div>\n",
              "  "
            ]
          },
          "metadata": {},
          "execution_count": 104
        }
      ]
    },
    {
      "cell_type": "code",
      "source": [
        "\n",
        "pearson_predictions = inference(pearson_knn)"
      ],
      "metadata": {
        "colab": {
          "base_uri": "https://localhost:8080/"
        },
        "id": "OkOFuE-zAV4d",
        "outputId": "b0ad642b-292b-47b7-d229-21beab1158e0"
      },
      "execution_count": null,
      "outputs": [
        {
          "output_type": "stream",
          "name": "stdout",
          "text": [
            "Computing the pearson similarity matrix...\n",
            "Done computing similarity matrix.\n"
          ]
        }
      ]
    },
    {
      "cell_type": "code",
      "source": [
        "\n",
        "pearson_df = getRecommendations(pearson_predictions)\n",
        "pearson_df.to_csv(dir+'/pearson_knn.csv',index = False)"
      ],
      "metadata": {
        "id": "zcqZrSv3AV2R"
      },
      "execution_count": null,
      "outputs": []
    },
    {
      "cell_type": "markdown",
      "source": [
        "### Using Cosine similarity"
      ],
      "metadata": {
        "id": "L9sZqKkPOR6l"
      }
    },
    {
      "cell_type": "code",
      "source": [
        "# Defining the similarity options with cosine similarity.\n",
        "sim_options = {\n",
        "    'name': 'cosine'\n",
        "}\n",
        "\n",
        "cosine_knn = KNNBasic(k= 35, n_epochs=25)\n",
        "#cosine_preds = cosine_knn.fit(trainset).test(testset)\n"
      ],
      "metadata": {
        "id": "TGu8XfQbOR6t"
      },
      "execution_count": null,
      "outputs": []
    },
    {
      "cell_type": "code",
      "source": [
        "# Generating evaluation metrics Precision, Recall, F1-Score, RMSE, MAE for the ratings dataset\n",
        "cosine_metrics = fit(cosine_knn, ratings_data)\n",
        "cosine_metrics"
      ],
      "metadata": {
        "colab": {
          "base_uri": "https://localhost:8080/",
          "height": 380
        },
        "outputId": "433bec97-ee5d-400e-8b3a-c659b4cf4b01",
        "id": "B_NTkTKtOR6t"
      },
      "execution_count": null,
      "outputs": [
        {
          "output_type": "stream",
          "name": "stdout",
          "text": [
            "Computing the msd similarity matrix...\n",
            "Done computing similarity matrix.\n",
            "Computing the msd similarity matrix...\n",
            "Done computing similarity matrix.\n",
            "Computing the msd similarity matrix...\n",
            "Done computing similarity matrix.\n",
            "Computing the msd similarity matrix...\n",
            "Done computing similarity matrix.\n",
            "Computing the msd similarity matrix...\n",
            "Done computing similarity matrix.\n"
          ]
        },
        {
          "output_type": "execute_result",
          "data": {
            "text/plain": [
              "   Split  Precision    Recall      RMSE  F1 Score       MAE\n",
              "0      1   0.681475  0.276803  0.952263  0.393694  0.728000\n",
              "1      2   0.665791  0.263455  0.945822  0.377523  0.726209\n",
              "2      3   0.665546  0.267258  0.937757  0.381372  0.717676\n",
              "3      4   0.661475  0.259585  0.950140  0.372851  0.728267\n",
              "4      5   0.674001  0.275606  0.942943  0.391233  0.722365"
            ],
            "text/html": [
              "\n",
              "  <div id=\"df-20ac3a1c-3f80-432f-9bfd-02cf1d456264\">\n",
              "    <div class=\"colab-df-container\">\n",
              "      <div>\n",
              "<style scoped>\n",
              "    .dataframe tbody tr th:only-of-type {\n",
              "        vertical-align: middle;\n",
              "    }\n",
              "\n",
              "    .dataframe tbody tr th {\n",
              "        vertical-align: top;\n",
              "    }\n",
              "\n",
              "    .dataframe thead th {\n",
              "        text-align: right;\n",
              "    }\n",
              "</style>\n",
              "<table border=\"1\" class=\"dataframe\">\n",
              "  <thead>\n",
              "    <tr style=\"text-align: right;\">\n",
              "      <th></th>\n",
              "      <th>Split</th>\n",
              "      <th>Precision</th>\n",
              "      <th>Recall</th>\n",
              "      <th>RMSE</th>\n",
              "      <th>F1 Score</th>\n",
              "      <th>MAE</th>\n",
              "    </tr>\n",
              "  </thead>\n",
              "  <tbody>\n",
              "    <tr>\n",
              "      <th>0</th>\n",
              "      <td>1</td>\n",
              "      <td>0.681475</td>\n",
              "      <td>0.276803</td>\n",
              "      <td>0.952263</td>\n",
              "      <td>0.393694</td>\n",
              "      <td>0.728000</td>\n",
              "    </tr>\n",
              "    <tr>\n",
              "      <th>1</th>\n",
              "      <td>2</td>\n",
              "      <td>0.665791</td>\n",
              "      <td>0.263455</td>\n",
              "      <td>0.945822</td>\n",
              "      <td>0.377523</td>\n",
              "      <td>0.726209</td>\n",
              "    </tr>\n",
              "    <tr>\n",
              "      <th>2</th>\n",
              "      <td>3</td>\n",
              "      <td>0.665546</td>\n",
              "      <td>0.267258</td>\n",
              "      <td>0.937757</td>\n",
              "      <td>0.381372</td>\n",
              "      <td>0.717676</td>\n",
              "    </tr>\n",
              "    <tr>\n",
              "      <th>3</th>\n",
              "      <td>4</td>\n",
              "      <td>0.661475</td>\n",
              "      <td>0.259585</td>\n",
              "      <td>0.950140</td>\n",
              "      <td>0.372851</td>\n",
              "      <td>0.728267</td>\n",
              "    </tr>\n",
              "    <tr>\n",
              "      <th>4</th>\n",
              "      <td>5</td>\n",
              "      <td>0.674001</td>\n",
              "      <td>0.275606</td>\n",
              "      <td>0.942943</td>\n",
              "      <td>0.391233</td>\n",
              "      <td>0.722365</td>\n",
              "    </tr>\n",
              "  </tbody>\n",
              "</table>\n",
              "</div>\n",
              "      <button class=\"colab-df-convert\" onclick=\"convertToInteractive('df-20ac3a1c-3f80-432f-9bfd-02cf1d456264')\"\n",
              "              title=\"Convert this dataframe to an interactive table.\"\n",
              "              style=\"display:none;\">\n",
              "        \n",
              "  <svg xmlns=\"http://www.w3.org/2000/svg\" height=\"24px\"viewBox=\"0 0 24 24\"\n",
              "       width=\"24px\">\n",
              "    <path d=\"M0 0h24v24H0V0z\" fill=\"none\"/>\n",
              "    <path d=\"M18.56 5.44l.94 2.06.94-2.06 2.06-.94-2.06-.94-.94-2.06-.94 2.06-2.06.94zm-11 1L8.5 8.5l.94-2.06 2.06-.94-2.06-.94L8.5 2.5l-.94 2.06-2.06.94zm10 10l.94 2.06.94-2.06 2.06-.94-2.06-.94-.94-2.06-.94 2.06-2.06.94z\"/><path d=\"M17.41 7.96l-1.37-1.37c-.4-.4-.92-.59-1.43-.59-.52 0-1.04.2-1.43.59L10.3 9.45l-7.72 7.72c-.78.78-.78 2.05 0 2.83L4 21.41c.39.39.9.59 1.41.59.51 0 1.02-.2 1.41-.59l7.78-7.78 2.81-2.81c.8-.78.8-2.07 0-2.86zM5.41 20L4 18.59l7.72-7.72 1.47 1.35L5.41 20z\"/>\n",
              "  </svg>\n",
              "      </button>\n",
              "      \n",
              "  <style>\n",
              "    .colab-df-container {\n",
              "      display:flex;\n",
              "      flex-wrap:wrap;\n",
              "      gap: 12px;\n",
              "    }\n",
              "\n",
              "    .colab-df-convert {\n",
              "      background-color: #E8F0FE;\n",
              "      border: none;\n",
              "      border-radius: 50%;\n",
              "      cursor: pointer;\n",
              "      display: none;\n",
              "      fill: #1967D2;\n",
              "      height: 32px;\n",
              "      padding: 0 0 0 0;\n",
              "      width: 32px;\n",
              "    }\n",
              "\n",
              "    .colab-df-convert:hover {\n",
              "      background-color: #E2EBFA;\n",
              "      box-shadow: 0px 1px 2px rgba(60, 64, 67, 0.3), 0px 1px 3px 1px rgba(60, 64, 67, 0.15);\n",
              "      fill: #174EA6;\n",
              "    }\n",
              "\n",
              "    [theme=dark] .colab-df-convert {\n",
              "      background-color: #3B4455;\n",
              "      fill: #D2E3FC;\n",
              "    }\n",
              "\n",
              "    [theme=dark] .colab-df-convert:hover {\n",
              "      background-color: #434B5C;\n",
              "      box-shadow: 0px 1px 3px 1px rgba(0, 0, 0, 0.15);\n",
              "      filter: drop-shadow(0px 1px 2px rgba(0, 0, 0, 0.3));\n",
              "      fill: #FFFFFF;\n",
              "    }\n",
              "  </style>\n",
              "\n",
              "      <script>\n",
              "        const buttonEl =\n",
              "          document.querySelector('#df-20ac3a1c-3f80-432f-9bfd-02cf1d456264 button.colab-df-convert');\n",
              "        buttonEl.style.display =\n",
              "          google.colab.kernel.accessAllowed ? 'block' : 'none';\n",
              "\n",
              "        async function convertToInteractive(key) {\n",
              "          const element = document.querySelector('#df-20ac3a1c-3f80-432f-9bfd-02cf1d456264');\n",
              "          const dataTable =\n",
              "            await google.colab.kernel.invokeFunction('convertToInteractive',\n",
              "                                                     [key], {});\n",
              "          if (!dataTable) return;\n",
              "\n",
              "          const docLinkHtml = 'Like what you see? Visit the ' +\n",
              "            '<a target=\"_blank\" href=https://colab.research.google.com/notebooks/data_table.ipynb>data table notebook</a>'\n",
              "            + ' to learn more about interactive tables.';\n",
              "          element.innerHTML = '';\n",
              "          dataTable['output_type'] = 'display_data';\n",
              "          await google.colab.output.renderOutput(dataTable, element);\n",
              "          const docLink = document.createElement('div');\n",
              "          docLink.innerHTML = docLinkHtml;\n",
              "          element.appendChild(docLink);\n",
              "        }\n",
              "      </script>\n",
              "    </div>\n",
              "  </div>\n",
              "  "
            ]
          },
          "metadata": {},
          "execution_count": 107
        }
      ]
    },
    {
      "cell_type": "code",
      "source": [
        "cosine_predictions = inference(cosine_knn)\n"
      ],
      "metadata": {
        "colab": {
          "base_uri": "https://localhost:8080/"
        },
        "outputId": "43c7051c-0649-4341-f35d-aecc017e1e65",
        "id": "9D4LC5uVOR6u"
      },
      "execution_count": null,
      "outputs": [
        {
          "output_type": "stream",
          "name": "stdout",
          "text": [
            "Computing the msd similarity matrix...\n",
            "Done computing similarity matrix.\n"
          ]
        }
      ]
    },
    {
      "cell_type": "code",
      "source": [
        "cosine_df = getRecommendations(cosine_predictions)\n",
        "cosine_df.to_csv(dir+'/cosine_knn.csv',index = False)\n"
      ],
      "metadata": {
        "id": "9_ZN5wffOR6u"
      },
      "execution_count": null,
      "outputs": []
    },
    {
      "cell_type": "code",
      "source": [],
      "metadata": {
        "id": "50hJ3YPhDkJS"
      },
      "execution_count": null,
      "outputs": []
    },
    {
      "cell_type": "code",
      "source": [],
      "metadata": {
        "id": "MMxbjBHbOYIt"
      },
      "execution_count": null,
      "outputs": []
    },
    {
      "cell_type": "code",
      "source": [],
      "metadata": {
        "id": "MImclYv0OYFU"
      },
      "execution_count": null,
      "outputs": []
    }
  ]
}